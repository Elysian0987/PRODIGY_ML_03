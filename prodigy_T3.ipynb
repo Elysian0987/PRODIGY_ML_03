{
  "nbformat": 4,
  "nbformat_minor": 0,
  "metadata": {
    "colab": {
      "provenance": [],
      "authorship_tag": "ABX9TyN4DLEDI1bs9MlFRM+an+Ko",
      "include_colab_link": true
    },
    "kernelspec": {
      "name": "python3",
      "display_name": "Python 3"
    },
    "language_info": {
      "name": "python"
    }
  },
  "cells": [
    {
      "cell_type": "markdown",
      "metadata": {
        "id": "view-in-github",
        "colab_type": "text"
      },
      "source": [
        "<a href=\"https://colab.research.google.com/github/Elysian0987/PRODIGY_ML_03/blob/main/prodigy_T3.ipynb\" target=\"_parent\"><img src=\"https://colab.research.google.com/assets/colab-badge.svg\" alt=\"Open In Colab\"/></a>"
      ]
    },
    {
      "cell_type": "code",
      "execution_count": 35,
      "metadata": {
        "colab": {
          "base_uri": "https://localhost:8080/"
        },
        "id": "Hcc5CHoLziep",
        "outputId": "d2c24fa9-26f5-4482-ca88-7a64e758d45c"
      },
      "outputs": [
        {
          "output_type": "stream",
          "name": "stdout",
          "text": [
            "Requirement already satisfied: opencv-python in /usr/local/lib/python3.10/dist-packages (4.10.0.84)\n",
            "Requirement already satisfied: opencv-python-headless in /usr/local/lib/python3.10/dist-packages (4.10.0.84)\n",
            "Requirement already satisfied: joblib in /usr/local/lib/python3.10/dist-packages (1.4.2)\n",
            "Requirement already satisfied: numpy>=1.21.2 in /usr/local/lib/python3.10/dist-packages (from opencv-python) (1.26.4)\n"
          ]
        }
      ],
      "source": [
        "!pip install opencv-python opencv-python-headless joblib"
      ]
    },
    {
      "cell_type": "code",
      "source": [
        "from google.colab import drive\n",
        "drive.mount('/content/drive')"
      ],
      "metadata": {
        "colab": {
          "base_uri": "https://localhost:8080/"
        },
        "id": "TkJqU8E4zoNf",
        "outputId": "0ad15fc9-8ce3-4e81-ca52-347ce818c11c"
      },
      "execution_count": 2,
      "outputs": [
        {
          "output_type": "stream",
          "name": "stdout",
          "text": [
            "Mounted at /content/drive\n"
          ]
        }
      ]
    },
    {
      "cell_type": "code",
      "source": [
        "import zipfile"
      ],
      "metadata": {
        "id": "lNJT6LXFzp-i"
      },
      "execution_count": 3,
      "outputs": []
    },
    {
      "cell_type": "code",
      "source": [
        "zip_path = '/content/drive/MyDrive/PRODIGY/train.zip'"
      ],
      "metadata": {
        "id": "wqt2DsvdzsJz"
      },
      "execution_count": 4,
      "outputs": []
    },
    {
      "cell_type": "code",
      "source": [
        "with zipfile.ZipFile(zip_path, 'r') as zip_ref:\n",
        "    zip_ref.extractall('./train')"
      ],
      "metadata": {
        "id": "dFDBvohBz4tX"
      },
      "execution_count": 5,
      "outputs": []
    },
    {
      "cell_type": "code",
      "source": [
        "import os\n",
        "import cv2\n",
        "import numpy as np\n",
        "from sklearn.model_selection import train_test_split\n",
        "from sklearn.svm import SVC\n",
        "from sklearn.metrics import classification_report, accuracy_score\n",
        "import joblib"
      ],
      "metadata": {
        "id": "c3gj1_pAz5QE"
      },
      "execution_count": 44,
      "outputs": []
    },
    {
      "cell_type": "code",
      "source": [
        "def load_images_with_downsampling(folder_path, img_size, num_samples_per_class):\n",
        "\n",
        "    data, labels = [], []\n",
        "    cat_count, dog_count = 0, 0\n",
        "\n",
        "    for img_name in os.listdir(folder_path):\n",
        "        if 'cat' in img_name and cat_count < num_samples_per_class:\n",
        "            label = 0\n",
        "            cat_count += 1\n",
        "        elif 'dog' in img_name and dog_count < num_samples_per_class:\n",
        "            label = 1\n",
        "            dog_count += 1\n",
        "        else:\n",
        "            continue\n",
        "\n",
        "        img_path = os.path.join(folder_path, img_name)\n",
        "        try:\n",
        "            img = cv2.imread(img_path)\n",
        "            img = cv2.resize(img, (img_size, img_size))\n",
        "            img = img.flatten()\n",
        "\n",
        "            data.append(img)\n",
        "            labels.append(label)\n",
        "        except Exception as e:\n",
        "            print(f\"Error reading {img_name}: {e}\")\n",
        "\n",
        "    return np.array(data), np.array(labels)\n"
      ],
      "metadata": {
        "id": "1JlI95RX0F9v"
      },
      "execution_count": 50,
      "outputs": []
    },
    {
      "cell_type": "code",
      "source": [
        "FOLDER_PATH = '/content/train/train'\n",
        "IMG_SIZE = 64\n",
        "NUM_SAMPLES_PER_CLASS = 2500"
      ],
      "metadata": {
        "id": "rj8c2UU40XMz"
      },
      "execution_count": 9,
      "outputs": []
    },
    {
      "cell_type": "code",
      "source": [
        "X, y = load_images_with_downsampling(FOLDER_PATH, IMG_SIZE, NUM_SAMPLES_PER_CLASS)"
      ],
      "metadata": {
        "id": "_1wlKYvk07oG"
      },
      "execution_count": 19,
      "outputs": []
    },
    {
      "cell_type": "code",
      "source": [
        "if X.size == 0 or y.size == 0:\n",
        "    print(\"Error: Dataset is empty. Please check the folder path or file contents.\")\n",
        "else:\n",
        "    X = X / 255.0\n",
        "    print(f\"Dataset Size: {X.shape[0]} images\")\n",
        "    print(f\"Labels Shape: {y.shape}\")"
      ],
      "metadata": {
        "colab": {
          "base_uri": "https://localhost:8080/"
        },
        "id": "Xa6tAvMt0Xmf",
        "outputId": "ec48860d-b430-4916-b591-34adcb0b44da"
      },
      "execution_count": 49,
      "outputs": [
        {
          "output_type": "stream",
          "name": "stdout",
          "text": [
            "Dataset Size: 5000 images\n",
            "Labels Shape: (5000,)\n"
          ]
        }
      ]
    },
    {
      "cell_type": "code",
      "source": [
        "X_train, X_test, y_train, y_test = train_test_split(X, y, test_size=0.2, random_state=42)"
      ],
      "metadata": {
        "id": "iLtwCgD80ZbH"
      },
      "execution_count": 40,
      "outputs": []
    },
    {
      "cell_type": "code",
      "source": [
        "print(f\"Training Set Size: {X_train.shape[0]}\")\n",
        "print(f\"Testing Set Size: {X_test.shape[0]}\")"
      ],
      "metadata": {
        "colab": {
          "base_uri": "https://localhost:8080/"
        },
        "id": "3PyO4ZTm1R1i",
        "outputId": "67c9bdae-1dea-4885-f31d-9f039e78910a"
      },
      "execution_count": 41,
      "outputs": [
        {
          "output_type": "stream",
          "name": "stdout",
          "text": [
            "Training Set Size: 4000\n",
            "Testing Set Size: 1000\n"
          ]
        }
      ]
    },
    {
      "cell_type": "code",
      "source": [
        "print(\"\\nTraining the SVM model...\")\n",
        "svm = SVC(kernel='rbf', C=1, gamma='scale')\n",
        "svm.fit(X_train, y_train)\n",
        "print(\"Training Complete!\")"
      ],
      "metadata": {
        "colab": {
          "base_uri": "https://localhost:8080/"
        },
        "id": "bqOEoKhN0xyi",
        "outputId": "bae620c2-6829-4fee-e26c-0059525bd1d0"
      },
      "execution_count": 24,
      "outputs": [
        {
          "output_type": "stream",
          "name": "stdout",
          "text": [
            "\n",
            "Training the SVM model...\n",
            "Training Complete!\n"
          ]
        }
      ]
    },
    {
      "cell_type": "code",
      "source": [
        "y_pred = svm.predict(X_test)\n",
        "print(\"\\nClassification Report:\")\n",
        "print(classification_report(y_test, y_pred))\n",
        "print(f\"Accuracy: {accuracy_score(y_test, y_pred) * 100:.2f}%\")"
      ],
      "metadata": {
        "colab": {
          "base_uri": "https://localhost:8080/"
        },
        "id": "BacLXwHM0zam",
        "outputId": "153244ea-1289-4315-a14a-69fc9c08ef4b"
      },
      "execution_count": 26,
      "outputs": [
        {
          "output_type": "stream",
          "name": "stdout",
          "text": [
            "\n",
            "Classification Report:\n",
            "              precision    recall  f1-score   support\n",
            "\n",
            "           0       0.64      0.65      0.65       493\n",
            "           1       0.65      0.65      0.65       507\n",
            "\n",
            "    accuracy                           0.65      1000\n",
            "   macro avg       0.65      0.65      0.65      1000\n",
            "weighted avg       0.65      0.65      0.65      1000\n",
            "\n",
            "Accuracy: 64.80%\n"
          ]
        }
      ]
    },
    {
      "cell_type": "code",
      "source": [
        "joblib.dump(svm, '/content/drive/MyDrive/svm_model.pkl')"
      ],
      "metadata": {
        "colab": {
          "base_uri": "https://localhost:8080/"
        },
        "id": "DcpUnuHj38kU",
        "outputId": "6a005d6f-52a0-486f-9307-355d104b9c76"
      },
      "execution_count": 37,
      "outputs": [
        {
          "output_type": "execute_result",
          "data": {
            "text/plain": [
              "['/content/drive/MyDrive/svm_model.pkl']"
            ]
          },
          "metadata": {},
          "execution_count": 37
        }
      ]
    },
    {
      "cell_type": "code",
      "source": [
        "try:\n",
        "    svm = joblib.load('/content/drive/MyDrive/svm_model.pkl')\n",
        "except FileNotFoundError:\n",
        "    print(\"Model file not found. Please check the file path.\")"
      ],
      "metadata": {
        "id": "jXrTN5KM8bfc"
      },
      "execution_count": 51,
      "outputs": []
    }
  ]
}